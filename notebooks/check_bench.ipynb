{
 "cells": [
  {
   "cell_type": "code",
   "execution_count": 5,
   "metadata": {},
   "outputs": [],
   "source": [
    "# %load ../src/structurize/generate_json_qa.py\n",
    "from TexSoup import TexSoup\n",
    "from typing import Union\n",
    "from pathlib import Path\n",
    "from collections import defaultdict\n",
    "\n",
    "def generate_bench_tree(tex_file : Union[str,Path] = None):\n",
    "    if tex_file is None:\n",
    "        raise ValueError(\"tex_file is not provided\")\n",
    "\n",
    "    with open(tex_file,'r') as file:\n",
    "        data = file.read()\n",
    "    \n",
    "    bench = TexSoup(data)\n",
    "\n",
    "    return bench\n",
    "\n",
    "\n",
    "def test():\n",
    "    pass"
   ]
  },
  {
   "cell_type": "code",
   "execution_count": 6,
   "metadata": {},
   "outputs": [],
   "source": [
    "benchmarks = generate_bench_tree(\"../ControlBench/ControlBench.tex\")"
   ]
  },
  {
   "cell_type": "code",
   "execution_count": 31,
   "metadata": {},
   "outputs": [
    {
     "name": "stdout",
     "output_type": "stream",
     "text": [
      "[\\section{Differential Equations, Laplace Transform and Preliminaries}, \\section{Stability}, \\section{Time Response of Dynamical Systems}, \\section{Block Diagrams}, \\section{Control System Design}, \\section{Bode Analysis}, \\section{Root-Locus Design}, \\section{Nyquist Design}, \\section{Gain/Phase Margins}, \\section{Advanced Topics (Lyapunov Stability, Controllability and Observability)}, \\section{System Sensitivity Measures}, \\section{Loop-Shaping}]\n"
     ]
    },
    {
     "ename": "AttributeError",
     "evalue": "'NoneType' object has no attribute 'contents'",
     "output_type": "error",
     "traceback": [
      "\u001b[0;31m---------------------------------------------------------------------------\u001b[0m",
      "\u001b[0;31mAttributeError\u001b[0m                            Traceback (most recent call last)",
      "Cell \u001b[0;32mIn[31], line 2\u001b[0m\n\u001b[1;32m      1\u001b[0m \u001b[38;5;28mprint\u001b[39m(\u001b[38;5;28mlist\u001b[39m(benchmarks\u001b[38;5;241m.\u001b[39mfind_all(\u001b[38;5;124m'\u001b[39m\u001b[38;5;124msection\u001b[39m\u001b[38;5;124m'\u001b[39m)))\n\u001b[0;32m----> 2\u001b[0m \u001b[38;5;28mprint\u001b[39m(\u001b[38;5;28mlist\u001b[39m(\u001b[43mbenchmarks\u001b[49m\u001b[38;5;241;43m.\u001b[39;49m\u001b[43mfind\u001b[49m\u001b[43m(\u001b[49m\u001b[38;5;124;43m\"\u001b[39;49m\u001b[38;5;124;43mStability\u001b[39;49m\u001b[38;5;124;43m\"\u001b[39;49m\u001b[43m)\u001b[49m\u001b[38;5;241;43m.\u001b[39;49m\u001b[43mcontents\u001b[49m))\n",
      "\u001b[0;31mAttributeError\u001b[0m: 'NoneType' object has no attribute 'contents'"
     ]
    }
   ],
   "source": [
    "print(list(benchmarks.find_all('section')))\n",
    "print()"
   ]
  },
  {
   "cell_type": "code",
   "execution_count": 7,
   "metadata": {},
   "outputs": [
    {
     "ename": "TypeError",
     "evalue": "'NoneType' object is not iterable",
     "output_type": "error",
     "traceback": [
      "\u001b[0;31m---------------------------------------------------------------------------\u001b[0m",
      "\u001b[0;31mTypeError\u001b[0m                                 Traceback (most recent call last)",
      "Cell \u001b[0;32mIn[7], line 3\u001b[0m\n\u001b[1;32m      1\u001b[0m bench_dict \u001b[38;5;241m=\u001b[39m defaultdict()\n\u001b[0;32m----> 3\u001b[0m \u001b[38;5;28;01mfor\u001b[39;00m ss, section \u001b[38;5;129;01min\u001b[39;00m \u001b[38;5;28menumerate\u001b[39m(\u001b[38;5;28;43mlist\u001b[39;49m\u001b[43m(\u001b[49m\u001b[43mbenchmarks\u001b[49m\u001b[38;5;241;43m.\u001b[39;49m\u001b[43msections\u001b[49m\u001b[43m)\u001b[49m):\n\u001b[1;32m      4\u001b[0m     \u001b[38;5;28mprint\u001b[39m(section)\n\u001b[1;32m      5\u001b[0m     problems \u001b[38;5;241m=\u001b[39m []\n",
      "\u001b[0;31mTypeError\u001b[0m: 'NoneType' object is not iterable"
     ]
    }
   ],
   "source": [
    "bench_dict = defaultdict()\n",
    "\n",
    "for ss, section in enumerate(list(benchmarks.sections)):\n",
    "    print(section)\n",
    "    problems = []\n",
    "    for subsection in section.subsections:\n",
    "        problems.append(subsection[:])\n",
    "    bench_dict[str(section)] = problems\n"
   ]
  },
  {
   "cell_type": "code",
   "execution_count": null,
   "metadata": {},
   "outputs": [
    {
     "data": {
      "text/plain": [
       "[\n",
       " \n",
       " Consider a plant with a nominal transfer function given by,\n",
       " \\clearpage,\n",
       " \n",
       " Prove that this system cannot be stabilized with a ,\n",
       " \\clearpage,\n",
       "  controller.\n",
       " ,\n",
       " \\textcolor{red}{Solution :},\n",
       "  \\\\ ,\n",
       " % Short Answer: NA,\n",
       " % Reasoning Steps:,\n",
       " \n",
       " We consider the general form of a PI controller as,\n",
       " \\clearpage,\n",
       " \n",
       " Thus, the closed-loop characteristic polynomial, ,\n",
       " \\clearpage,\n",
       " , is given by,\n",
       " \\clearpage,\n",
       " \n",
       " Hence, there are no values for ,\n",
       " \\clearpage,\n",
       "  and ,\n",
       " \\clearpage,\n",
       "  such that ,\n",
       " \\clearpage,\n",
       "  is strictly Hurwitz. This originates from the fact that one of the coefficients of the polynomial ,\n",
       " \\clearpage,\n",
       "  is negative no matter what values we choose for ,\n",
       " \\clearpage,\n",
       "  and ,\n",
       " \\clearpage,\n",
       " .,\n",
       " % Problem End,\n",
       " \\clearpage]"
      ]
     },
     "execution_count": 4,
     "metadata": {},
     "output_type": "execute_result"
    }
   ],
   "source": [
    "bench_dict['Stability'][1]"
   ]
  }
 ],
 "metadata": {
  "kernelspec": {
   "display_name": "Python 3",
   "language": "python",
   "name": "python3"
  },
  "language_info": {
   "codemirror_mode": {
    "name": "ipython",
    "version": 3
   },
   "file_extension": ".py",
   "mimetype": "text/x-python",
   "name": "python",
   "nbconvert_exporter": "python",
   "pygments_lexer": "ipython3",
   "version": "3.12.2"
  }
 },
 "nbformat": 4,
 "nbformat_minor": 2
}
