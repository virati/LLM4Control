{
 "cells": [
  {
   "cell_type": "code",
   "execution_count": 1,
   "metadata": {},
   "outputs": [],
   "source": [
    "# %load ../src/structurize/generate_json_qa.py\n",
    "from tex2py import tex2py\n",
    "from typing import Union\n",
    "from pathlib import Path\n",
    "from collections import defaultdict\n",
    "\n",
    "def generate_bench_tree(tex_file : Union[str,Path] = None):\n",
    "    if tex_file is None:\n",
    "        raise ValueError(\"tex_file is not provided\")\n",
    "\n",
    "    with open(tex_file,'r') as file:\n",
    "        data = file.read()\n",
    "    \n",
    "    bench = tex2py(data)\n",
    "\n",
    "    return bench\n",
    "\n",
    "def process_bench_tree(input_benchmark):\n",
    "    bench_dict = nestdict()\n",
    "\n",
    "    for ss, section in enumerate(list(benchmarks.sections)):\n",
    "        print(section)\n",
    "        problems = []\n",
    "        for subsection in section.subsections:\n",
    "            type_of_problem = str(section)\n",
    "            problem_name = str(subsection)\n",
    "            problem_text = [str(x).replace(\"\\n\",\"\") for x in subsection.descendants]\n",
    "            soln_split = str('\\\\textbf{\\\\textcolor{red}{Solution :}}')\n",
    "\n",
    "            solution_idx = problem_text.index(soln_split)\n",
    "            question_stem = problem_text[:solution_idx]\n",
    "            question_solution = problem_text[solution_idx:]\n",
    "            bench_dict[type_of_problem][problem_name] = [question_stem, question_solution]\n",
    "\n",
    "    return bench_dict\n",
    "\n",
    "\n",
    "def nestdict():\n",
    "    return defaultdict(nestdict)"
   ]
  },
  {
   "cell_type": "code",
   "execution_count": 2,
   "metadata": {},
   "outputs": [],
   "source": [
    "benchmarks = generate_bench_tree(\"../ControlBench/ControlBench.tex\")"
   ]
  },
  {
   "cell_type": "code",
   "execution_count": 3,
   "metadata": {},
   "outputs": [
    {
     "name": "stdout",
     "output_type": "stream",
     "text": [
      "Differential Equations, Laplace Transform and Preliminaries\n",
      "Stability\n",
      "Time Response of Dynamical Systems\n",
      "Block Diagrams\n",
      "Control System Design\n",
      "Bode Analysis\n",
      "Root-Locus Design\n",
      "Nyquist Design\n",
      "Gain/Phase Margins\n",
      "Advanced Topics (Lyapunov Stability, Controllability and Observability)\n",
      "System Sensitivity Measures\n",
      "Loop-Shaping\n"
     ]
    }
   ],
   "source": [
    "benchmark_dict = process_bench_tree(benchmarks)\n"
   ]
  },
  {
   "cell_type": "code",
   "execution_count": 4,
   "metadata": {},
   "outputs": [],
   "source": [
    "import json\n",
    "\n",
    "with open(\"ctrlbenchmark.json\",\"w\") as file:\n",
    "    json.dump(benchmark_dict, file)"
   ]
  },
  {
   "cell_type": "code",
   "execution_count": 5,
   "metadata": {},
   "outputs": [
    {
     "data": {
      "text/plain": [
       "['\\\\textbf{\\\\textcolor{red}{Solution :}}',\n",
       " ' \\\\\\\\',\n",
       " '% Short Answer: [-4,-2]',\n",
       " '% Reasoning Steps:',\n",
       " 'We first note that if ',\n",
       " '\\\\(\\\\alpha > 0\\\\)',\n",
       " ', the unit step response is always positive, thus no undershoot occurs. ',\n",
       " 'To have undershoot in the unit step response, it is sufficient that a linear system have a real zero in the open Right Half Plane (RHP) -- a Non-Minimum Phase (NMP) zero. To investigate that possibility, we add the two fractions in ',\n",
       " '\\\\(H(s)\\\\)',\n",
       " ' to yield:',\n",
       " '\\\\begin{equation}H(s) = \\\\frac{2s + 4 + \\\\alpha s + \\\\alpha}{(s + 1)(s + 2)} = (4+\\\\alpha)\\\\frac{\\\\frac{2 + \\\\alpha}{4 + \\\\alpha}s + 1}{(s + 1)(s + 2)}\\\\end{equation}',\n",
       " 'Then, we have a NMP zero if and only if ',\n",
       " '\\\\(-4 < \\\\alpha < -2\\\\)',\n",
       " '.',\n",
       " '% Problem End ',\n",
       " '\\\\clearpage']"
      ]
     },
     "execution_count": 5,
     "metadata": {},
     "output_type": "execute_result"
    }
   ],
   "source": [
    "benchmark_dict['Differential Equations, Laplace Transform and Preliminaries']['Undershoot'][1]"
   ]
  }
 ],
 "metadata": {
  "kernelspec": {
   "display_name": "Python 3",
   "language": "python",
   "name": "python3"
  },
  "language_info": {
   "codemirror_mode": {
    "name": "ipython",
    "version": 3
   },
   "file_extension": ".py",
   "mimetype": "text/x-python",
   "name": "python",
   "nbconvert_exporter": "python",
   "pygments_lexer": "ipython3",
   "version": "3.10.12"
  }
 },
 "nbformat": 4,
 "nbformat_minor": 2
}
