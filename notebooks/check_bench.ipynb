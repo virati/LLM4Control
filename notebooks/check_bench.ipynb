{
 "cells": [
  {
   "cell_type": "code",
   "execution_count": 1,
   "metadata": {},
   "outputs": [],
   "source": [
    "# %load ../src/structurize/generate_json_qa.py\n",
    "from TexSoup import TexSoup\n",
    "from typing import Union\n",
    "from pathlib import Path\n",
    "from collections import defaultdict\n",
    "\n",
    "def generate_bench_tree(tex_file : Union[str,Path] = None):\n",
    "    if tex_file is None:\n",
    "        raise ValueError(\"tex_file is not provided\")\n",
    "\n",
    "    with open(tex_file,'r') as file:\n",
    "        data = file.read()\n",
    "    \n",
    "    bench = TexSoup(data)\n",
    "\n",
    "    return bench\n",
    "\n",
    "\n",
    "def test():\n",
    "    pass"
   ]
  },
  {
   "cell_type": "code",
   "execution_count": 2,
   "metadata": {},
   "outputs": [],
   "source": [
    "benchmarks = generate_bench_tree(\"../ControlBench/ControlBench.tex\")"
   ]
  },
  {
   "cell_type": "code",
   "execution_count": 3,
   "metadata": {},
   "outputs": [
    {
     "name": "stdout",
     "output_type": "stream",
     "text": [
      "Differential Equations, Laplace Transform and Preliminaries\n",
      "Stability\n",
      "Time Response of Dynamical Systems\n",
      "Block Diagrams\n",
      "Control System Design\n",
      "Bode Analysis\n",
      "Root-Locus Design\n",
      "Nyquist Design\n",
      "Gain/Phase Margins\n",
      "Advanced Topics (Lyapunov Stability, Controllability and Observability)\n",
      "System Sensitivity Measures\n",
      "Loop-Shaping\n"
     ]
    }
   ],
   "source": [
    "bench_dict = defaultdict()\n",
    "\n",
    "for ss, section in enumerate(list(benchmarks.sections)):\n",
    "    print(section)\n",
    "    problems = []\n",
    "    for subsection in section.subsections:\n",
    "        problems.append(subsection[:])\n",
    "    bench_dict[str(section)] = problems\n"
   ]
  },
  {
   "cell_type": "code",
   "execution_count": 4,
   "metadata": {},
   "outputs": [
    {
     "data": {
      "text/plain": [
       "[\n",
       " \n",
       " Consider a plant with a nominal transfer function given by,\n",
       " \\clearpage,\n",
       " \n",
       " Prove that this system cannot be stabilized with a ,\n",
       " \\clearpage,\n",
       "  controller.\n",
       " ,\n",
       " \\textcolor{red}{Solution :},\n",
       "  \\\\ ,\n",
       " % Short Answer: NA,\n",
       " % Reasoning Steps:,\n",
       " \n",
       " We consider the general form of a PI controller as,\n",
       " \\clearpage,\n",
       " \n",
       " Thus, the closed-loop characteristic polynomial, ,\n",
       " \\clearpage,\n",
       " , is given by,\n",
       " \\clearpage,\n",
       " \n",
       " Hence, there are no values for ,\n",
       " \\clearpage,\n",
       "  and ,\n",
       " \\clearpage,\n",
       "  such that ,\n",
       " \\clearpage,\n",
       "  is strictly Hurwitz. This originates from the fact that one of the coefficients of the polynomial ,\n",
       " \\clearpage,\n",
       "  is negative no matter what values we choose for ,\n",
       " \\clearpage,\n",
       "  and ,\n",
       " \\clearpage,\n",
       " .,\n",
       " % Problem End,\n",
       " \\clearpage]"
      ]
     },
     "execution_count": 4,
     "metadata": {},
     "output_type": "execute_result"
    }
   ],
   "source": [
    "bench_dict['Stability'][1]"
   ]
  }
 ],
 "metadata": {
  "kernelspec": {
   "display_name": "Python 3",
   "language": "python",
   "name": "python3"
  },
  "language_info": {
   "codemirror_mode": {
    "name": "ipython",
    "version": 3
   },
   "file_extension": ".py",
   "mimetype": "text/x-python",
   "name": "python",
   "nbconvert_exporter": "python",
   "pygments_lexer": "ipython3",
   "version": "3.12.2"
  }
 },
 "nbformat": 4,
 "nbformat_minor": 2
}
