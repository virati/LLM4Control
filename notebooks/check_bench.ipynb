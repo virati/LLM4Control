{
 "cells": [
  {
   "cell_type": "code",
   "execution_count": 2,
   "metadata": {},
   "outputs": [
    {
     "ename": "KeyboardInterrupt",
     "evalue": "",
     "output_type": "error",
     "traceback": [
      "\u001b[0;31m---------------------------------------------------------------------------\u001b[0m",
      "\u001b[0;31mKeyboardInterrupt\u001b[0m                         Traceback (most recent call last)",
      "Cell \u001b[0;32mIn[2], line 2\u001b[0m\n\u001b[1;32m      1\u001b[0m \u001b[38;5;66;03m# %load ../src/structurize/generate_json_qa.py\u001b[39;00m\n\u001b[0;32m----> 2\u001b[0m \u001b[38;5;28;01mfrom\u001b[39;00m \u001b[38;5;21;01mtex2py\u001b[39;00m \u001b[38;5;28;01mimport\u001b[39;00m tex2py\n\u001b[1;32m      3\u001b[0m \u001b[38;5;28;01mfrom\u001b[39;00m \u001b[38;5;21;01mtyping\u001b[39;00m \u001b[38;5;28;01mimport\u001b[39;00m Union\n\u001b[1;32m      4\u001b[0m \u001b[38;5;28;01mfrom\u001b[39;00m \u001b[38;5;21;01mpathlib\u001b[39;00m \u001b[38;5;28;01mimport\u001b[39;00m Path\n",
      "Cell \u001b[0;32mIn[2], line 2\u001b[0m\n\u001b[1;32m      1\u001b[0m \u001b[38;5;66;03m# %load ../src/structurize/generate_json_qa.py\u001b[39;00m\n\u001b[0;32m----> 2\u001b[0m \u001b[38;5;28;01mfrom\u001b[39;00m \u001b[38;5;21;01mtex2py\u001b[39;00m \u001b[38;5;28;01mimport\u001b[39;00m tex2py\n\u001b[1;32m      3\u001b[0m \u001b[38;5;28;01mfrom\u001b[39;00m \u001b[38;5;21;01mtyping\u001b[39;00m \u001b[38;5;28;01mimport\u001b[39;00m Union\n\u001b[1;32m      4\u001b[0m \u001b[38;5;28;01mfrom\u001b[39;00m \u001b[38;5;21;01mpathlib\u001b[39;00m \u001b[38;5;28;01mimport\u001b[39;00m Path\n",
      "File \u001b[0;32m_pydevd_bundle/pydevd_cython.pyx:1457\u001b[0m, in \u001b[0;36m_pydevd_bundle.pydevd_cython.SafeCallWrapper.__call__\u001b[0;34m()\u001b[0m\n",
      "File \u001b[0;32m_pydevd_bundle/pydevd_cython.pyx:701\u001b[0m, in \u001b[0;36m_pydevd_bundle.pydevd_cython.PyDBFrame.trace_dispatch\u001b[0;34m()\u001b[0m\n",
      "File \u001b[0;32m_pydevd_bundle/pydevd_cython.pyx:1152\u001b[0m, in \u001b[0;36m_pydevd_bundle.pydevd_cython.PyDBFrame.trace_dispatch\u001b[0;34m()\u001b[0m\n",
      "File \u001b[0;32m_pydevd_bundle/pydevd_cython.pyx:1135\u001b[0m, in \u001b[0;36m_pydevd_bundle.pydevd_cython.PyDBFrame.trace_dispatch\u001b[0;34m()\u001b[0m\n",
      "File \u001b[0;32m_pydevd_bundle/pydevd_cython.pyx:312\u001b[0m, in \u001b[0;36m_pydevd_bundle.pydevd_cython.PyDBFrame.do_wait_suspend\u001b[0;34m()\u001b[0m\n",
      "File \u001b[0;32m~/.pyenv/versions/3.10.14/lib/python3.10/site-packages/debugpy/_vendored/pydevd/pydevd.py:2070\u001b[0m, in \u001b[0;36mPyDB.do_wait_suspend\u001b[0;34m(self, thread, frame, event, arg, exception_type)\u001b[0m\n\u001b[1;32m   2067\u001b[0m             from_this_thread\u001b[38;5;241m.\u001b[39mappend(frame_custom_thread_id)\n\u001b[1;32m   2069\u001b[0m     \u001b[38;5;28;01mwith\u001b[39;00m \u001b[38;5;28mself\u001b[39m\u001b[38;5;241m.\u001b[39m_threads_suspended_single_notification\u001b[38;5;241m.\u001b[39mnotify_thread_suspended(thread_id, thread, stop_reason):\n\u001b[0;32m-> 2070\u001b[0m         keep_suspended \u001b[38;5;241m=\u001b[39m \u001b[38;5;28;43mself\u001b[39;49m\u001b[38;5;241;43m.\u001b[39;49m\u001b[43m_do_wait_suspend\u001b[49m\u001b[43m(\u001b[49m\u001b[43mthread\u001b[49m\u001b[43m,\u001b[49m\u001b[43m \u001b[49m\u001b[43mframe\u001b[49m\u001b[43m,\u001b[49m\u001b[43m \u001b[49m\u001b[43mevent\u001b[49m\u001b[43m,\u001b[49m\u001b[43m \u001b[49m\u001b[43marg\u001b[49m\u001b[43m,\u001b[49m\u001b[43m \u001b[49m\u001b[43msuspend_type\u001b[49m\u001b[43m,\u001b[49m\u001b[43m \u001b[49m\u001b[43mfrom_this_thread\u001b[49m\u001b[43m,\u001b[49m\u001b[43m \u001b[49m\u001b[43mframes_tracker\u001b[49m\u001b[43m)\u001b[49m\n\u001b[1;32m   2072\u001b[0m frames_list \u001b[38;5;241m=\u001b[39m \u001b[38;5;28;01mNone\u001b[39;00m\n\u001b[1;32m   2074\u001b[0m \u001b[38;5;28;01mif\u001b[39;00m keep_suspended:\n\u001b[1;32m   2075\u001b[0m     \u001b[38;5;66;03m# This means that we should pause again after a set next statement.\u001b[39;00m\n",
      "File \u001b[0;32m~/.pyenv/versions/3.10.14/lib/python3.10/site-packages/debugpy/_vendored/pydevd/pydevd.py:2106\u001b[0m, in \u001b[0;36mPyDB._do_wait_suspend\u001b[0;34m(self, thread, frame, event, arg, suspend_type, from_this_thread, frames_tracker)\u001b[0m\n\u001b[1;32m   2103\u001b[0m         \u001b[38;5;28mself\u001b[39m\u001b[38;5;241m.\u001b[39m_call_input_hook()\n\u001b[1;32m   2105\u001b[0m     \u001b[38;5;28mself\u001b[39m\u001b[38;5;241m.\u001b[39mprocess_internal_commands()\n\u001b[0;32m-> 2106\u001b[0m     \u001b[43mtime\u001b[49m\u001b[38;5;241;43m.\u001b[39;49m\u001b[43msleep\u001b[49m\u001b[43m(\u001b[49m\u001b[38;5;241;43m0.01\u001b[39;49m\u001b[43m)\u001b[49m\n\u001b[1;32m   2108\u001b[0m \u001b[38;5;28mself\u001b[39m\u001b[38;5;241m.\u001b[39mcancel_async_evaluation(get_current_thread_id(thread), \u001b[38;5;28mstr\u001b[39m(\u001b[38;5;28mid\u001b[39m(frame)))\n\u001b[1;32m   2110\u001b[0m \u001b[38;5;66;03m# process any stepping instructions\u001b[39;00m\n",
      "\u001b[0;31mKeyboardInterrupt\u001b[0m: "
     ]
    }
   ],
   "source": [
    "# %load ../src/structurize/generate_json_qa.py\n",
    "from tex2py import tex2py\n",
    "from typing import Union\n",
    "from pathlib import Path\n",
    "from collections import defaultdict\n",
    "\n",
    "def generate_bench_tree(tex_file : Union[str,Path] = None):\n",
    "    if tex_file is None:\n",
    "        raise ValueError(\"tex_file is not provided\")\n",
    "\n",
    "    with open(tex_file,'r') as file:\n",
    "        data = file.read()\n",
    "    \n",
    "    bench = tex2py(data)\n",
    "\n",
    "    return bench\n",
    "\n",
    "def process_bench_tree(input_benchmark):\n",
    "    bench_dict = nestdict()\n",
    "\n",
    "    for ss, section in enumerate(list(benchmarks.sections)):\n",
    "        print(section)\n",
    "        problems = []\n",
    "        for subsection in section.subsections:\n",
    "            type_of_problem = str(section)\n",
    "            problem_name = str(subsection)\n",
    "            problem_text = [str(x).replace(\"\\n\",\"\") for x in subsection.descendants]\n",
    "            soln_split = str('\\\\textbf{\\\\textcolor{red}{Solution :}}')\n",
    "\n",
    "            solution_idx = problem_text.index(soln_split)\n",
    "            question_stem = problem_text[:solution_idx]\n",
    "            question_solution = problem_text[solution_idx:]\n",
    "            bench_dict[type_of_problem][problem_name] = [question_stem, question_solution]\n",
    "\n",
    "    return bench_dict\n",
    "\n",
    "\n",
    "def nestdict():\n",
    "    return defaultdict(nestdict)"
   ]
  },
  {
   "cell_type": "code",
   "execution_count": null,
   "metadata": {},
   "outputs": [],
   "source": [
    "benchmarks = generate_bench_tree(\"../ControlBench/ControlBench.tex\")"
   ]
  },
  {
   "cell_type": "code",
   "execution_count": null,
   "metadata": {},
   "outputs": [
    {
     "name": "stdout",
     "output_type": "stream",
     "text": [
      "Differential Equations, Laplace Transform and Preliminaries\n",
      "Stability\n",
      "Time Response of Dynamical Systems\n",
      "Block Diagrams\n",
      "Control System Design\n",
      "Bode Analysis\n",
      "Root-Locus Design\n",
      "Nyquist Design\n",
      "Gain/Phase Margins\n",
      "Advanced Topics (Lyapunov Stability, Controllability and Observability)\n",
      "System Sensitivity Measures\n",
      "Loop-Shaping\n"
     ]
    }
   ],
   "source": [
    "benchmark_dict = process_bench_tree(benchmarks)\n"
   ]
  },
  {
   "cell_type": "code",
   "execution_count": null,
   "metadata": {},
   "outputs": [],
   "source": [
    "import json\n",
    "\n",
    "with open(\"ctrlbenchmark.json\",\"w\") as file:\n",
    "    json.dump(benchmark_dict, file)"
   ]
  },
  {
   "cell_type": "code",
   "execution_count": null,
   "metadata": {},
   "outputs": [
    {
     "data": {
      "text/plain": [
       "['\\\\textbf{\\\\textcolor{red}{Solution :}}',\n",
       " ' \\\\\\\\',\n",
       " '% Short Answer: [-4,-2]',\n",
       " '% Reasoning Steps:',\n",
       " 'We first note that if ',\n",
       " '\\\\(\\\\alpha > 0\\\\)',\n",
       " ', the unit step response is always positive, thus no undershoot occurs. ',\n",
       " 'To have undershoot in the unit step response, it is sufficient that a linear system have a real zero in the open Right Half Plane (RHP) -- a Non-Minimum Phase (NMP) zero. To investigate that possibility, we add the two fractions in ',\n",
       " '\\\\(H(s)\\\\)',\n",
       " ' to yield:',\n",
       " '\\\\begin{equation}H(s) = \\\\frac{2s + 4 + \\\\alpha s + \\\\alpha}{(s + 1)(s + 2)} = (4+\\\\alpha)\\\\frac{\\\\frac{2 + \\\\alpha}{4 + \\\\alpha}s + 1}{(s + 1)(s + 2)}\\\\end{equation}',\n",
       " 'Then, we have a NMP zero if and only if ',\n",
       " '\\\\(-4 < \\\\alpha < -2\\\\)',\n",
       " '.',\n",
       " '% Problem End ',\n",
       " '\\\\clearpage']"
      ]
     },
     "execution_count": 4,
     "metadata": {},
     "output_type": "execute_result"
    }
   ],
   "source": [
    "benchmark_dict['Differential Equations, Laplace Transform and Preliminaries']['Undershoot'][1]"
   ]
  }
 ],
 "metadata": {
  "kernelspec": {
   "display_name": "Python 3",
   "language": "python",
   "name": "python3"
  },
  "language_info": {
   "codemirror_mode": {
    "name": "ipython",
    "version": 3
   },
   "file_extension": ".py",
   "mimetype": "text/x-python",
   "name": "python",
   "nbconvert_exporter": "python",
   "pygments_lexer": "ipython3",
   "version": "3.10.14"
  }
 },
 "nbformat": 4,
 "nbformat_minor": 2
}
